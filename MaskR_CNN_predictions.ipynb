{
  "nbformat": 4,
  "nbformat_minor": 0,
  "metadata": {
    "colab": {
      "provenance": [],
      "authorship_tag": "ABX9TyN3jF2rUMovbg3dRne46okR",
      "include_colab_link": true
    },
    "kernelspec": {
      "name": "python3",
      "display_name": "Python 3"
    },
    "language_info": {
      "name": "python"
    }
  },
  "cells": [
    {
      "cell_type": "markdown",
      "metadata": {
        "id": "view-in-github",
        "colab_type": "text"
      },
      "source": [
        "<a href=\"https://colab.research.google.com/github/CharlottePrimiceri/VP_Project/blob/main/MaskR_CNN_predictions.ipynb\" target=\"_parent\"><img src=\"https://colab.research.google.com/assets/colab-badge.svg\" alt=\"Open In Colab\"/></a>"
      ]
    },
    {
      "cell_type": "markdown",
      "source": [
        "# Libraries"
      ],
      "metadata": {
        "id": "G3tfGzZDqzk8"
      }
    },
    {
      "cell_type": "code",
      "source": [
        "!pip install torchvision --quiet"
      ],
      "metadata": {
        "id": "acaA8DBft5mj"
      },
      "execution_count": null,
      "outputs": []
    },
    {
      "cell_type": "code",
      "source": [
        "! pip install scikit-image --quiet"
      ],
      "metadata": {
        "id": "eMqV7nOtt9qk"
      },
      "execution_count": null,
      "outputs": []
    },
    {
      "cell_type": "code",
      "source": [
        "! pip install opencv-python --quiet"
      ],
      "metadata": {
        "id": "PKzGaD7Bt77c"
      },
      "execution_count": null,
      "outputs": []
    },
    {
      "cell_type": "code",
      "source": [
        "! pip install Pillow"
      ],
      "metadata": {
        "id": "VNWml8YSt_g3"
      },
      "execution_count": null,
      "outputs": []
    },
    {
      "cell_type": "code",
      "source": [
        "from google.colab import drive\n",
        "drive.mount('/content/drive', force_remount=True)"
      ],
      "metadata": {
        "id": "T3vuCM0Mq2iO"
      },
      "execution_count": null,
      "outputs": []
    },
    {
      "cell_type": "code",
      "source": [
        "device = \"cuda\" if torch.cuda.is_available() else \"cpu\""
      ],
      "metadata": {
        "id": "hGuBD0FLtcpM"
      },
      "execution_count": null,
      "outputs": []
    },
    {
      "cell_type": "markdown",
      "source": [
        "# Cityscapes Conversion to COCO Format"
      ],
      "metadata": {
        "id": "mfmhKF38pdeg"
      }
    },
    {
      "cell_type": "code",
      "source": [
        "! git clone https://github.com/ISSResearch/Dataset-Converters"
      ],
      "metadata": {
        "id": "N1k65tSWqqGP"
      },
      "execution_count": null,
      "outputs": []
    },
    {
      "cell_type": "code",
      "source": [
        "! pip install -r /content/Dataset-Converters/requirements.txt"
      ],
      "metadata": {
        "id": "3tEKtWvDpIYu"
      },
      "execution_count": null,
      "outputs": []
    },
    {
      "cell_type": "code",
      "execution_count": null,
      "metadata": {
        "id": "shmm2UUXgHjx"
      },
      "outputs": [],
      "source": [
        "! python /content/Dataset-Converters/convert.py -i /content/drive/MyDrive/VPPROJECT/cityscapes -o /content/drive/MyDrive/VPPROJECT/cityscapes/annotations -I CITYSCAPES -O COCO --copy"
      ]
    },
    {
      "cell_type": "markdown",
      "source": [
        "# Filtering 3 Classes: Person, Car and Bicycle"
      ],
      "metadata": {
        "id": "hKudWZv7sSnV"
      }
    },
    {
      "cell_type": "code",
      "source": [
        "filtered_annotations_file = \"filtered_annotations.json\"\n",
        "\n",
        "# Specify the IDs of the desired classes to keep\n",
        "classes = [1, 2, 3]\n",
        "\n",
        "# Load the COCO annotations\n",
        "with open(\"/content/drive/MyDrive/VPPROJECT/cityscapes/annotations/train.json\", \"r\") as f:\n",
        "    data = json.load(f)\n",
        "\n",
        "# Filter the annotations for the desired classes\n",
        "filtered_annotations = {\n",
        "    \"images\": data[\"images\"],\n",
        "    \"categories\": [category for category in data[\"categories\"] if category[\"id\"] in desired_class_ids],\n",
        "    \"annotations\": [annotation for annotation in data[\"annotations\"] if annotation[\"category_id\"] in desired_class_ids]\n",
        "}\n",
        "\n",
        "# Save the filtered annotations to a new JSON file\n",
        "with open(filtered_annotations_file, \"w\") as f:\n",
        "    json.dump(filtered_annotations, f)"
      ],
      "metadata": {
        "id": "8Anyy8tusTHl"
      },
      "execution_count": null,
      "outputs": []
    },
    {
      "cell_type": "code",
      "source": [
        "filtered_annotations_file = \"filtered_annotations_val.json\"\n",
        "\n",
        "# Load the COCO annotations\n",
        "with open(\"/content/drive/MyDrive/VPPROJECT/cityscapes/annotations/val.json\", \"r\") as f:\n",
        "    data = json.load(f)\n",
        "\n",
        "filtered_annotations = {\n",
        "    \"images\": data[\"images\"],\n",
        "    \"categories\": [category for category in data[\"categories\"] if category[\"id\"] in desired_class_ids],\n",
        "    \"annotations\": [annotation for annotation in data[\"annotations\"] if annotation[\"category_id\"] in desired_class_ids]\n",
        "}\n",
        "\n",
        "with open(filtered_annotations_file, \"w\") as f:\n",
        "    json.dump(filtered_annotations, f)"
      ],
      "metadata": {
        "id": "juaOZikFsTAd"
      },
      "execution_count": null,
      "outputs": []
    },
    {
      "cell_type": "code",
      "source": [
        "with open('/content/drive/MyDrive/VPPROJECT/cityscapes/annotations/train.json') as json_data:\n",
        "    data = json.load(json_data)\n",
        "    df3_pandas = pd.DataFrame(data['categories'])\n",
        "df3_pandas\n",
        "list_of_values = [1, 3, 8]\n",
        "df3 = df3_pandas[df3_pandas['id'].isin(list_of_values)]\n",
        "print(df3)\n",
        "df3_json = df3.to_dict(orient='dict')"
      ],
      "metadata": {
        "id": "-IbQxiOuuRIf"
      },
      "execution_count": null,
      "outputs": []
    },
    {
      "cell_type": "markdown",
      "source": [
        "# Detectron2 Configuration on Cityscapes"
      ],
      "metadata": {
        "id": "x33ShwGytxBt"
      }
    },
    {
      "cell_type": "code",
      "source": [
        "! git clone https://github.com/facebookresearch/detectron2"
      ],
      "metadata": {
        "id": "-UYz-9rVtinO"
      },
      "execution_count": null,
      "outputs": []
    },
    {
      "cell_type": "code",
      "source": [
        "!python -m pip install 'git+https://github.com/facebookresearch/detectron2.git'"
      ],
      "metadata": {
        "id": "lJqzG65htrJT"
      },
      "execution_count": null,
      "outputs": []
    },
    {
      "cell_type": "code",
      "source": [
        "import detectron2\n",
        "from detectron2 import model_zoo\n",
        "from detectron2.engine import DefaultPredictor\n",
        "from detectron2.config import get_cfg\n",
        "from detectron2.utils.visualizer import Visualizer\n",
        "from detectron2.data import MetadataCatalog, DatasetCatalog\n",
        "from detectron2.structures import BoxMode"
      ],
      "metadata": {
        "id": "QWPShD6ets9k"
      },
      "execution_count": null,
      "outputs": []
    },
    {
      "cell_type": "code",
      "source": [
        "cfg = get_cfg()\n",
        "cfg.MODEL.DEVICE = \"cpu\""
      ],
      "metadata": {
        "id": "izDZyj3xug2n"
      },
      "execution_count": null,
      "outputs": []
    },
    {
      "cell_type": "code",
      "source": [
        "DatasetCatalog.clear()"
      ],
      "metadata": {
        "id": "9IyjFuCbuqdk"
      },
      "execution_count": null,
      "outputs": []
    },
    {
      "cell_type": "code",
      "source": [
        "from detectron2.data.datasets import register_coco_instances\n",
        "register_coco_instances(\"my_dataset_train\", {}, \"/content/drive/MyDrive/VPPROJECT/cityscapes/annotations/filtered_annotations.json\", \"/content/drive/MyDrive/VPPROJECT/cityscapes/annotations/train\")"
      ],
      "metadata": {
        "id": "uU-Tg3plusyV"
      },
      "execution_count": null,
      "outputs": []
    },
    {
      "cell_type": "code",
      "source": [
        "nuts_metadata = MetadataCatalog.get('my_dataset_train')\n",
        "dataset_dicts = DatasetCatalog.get('my_dataset_train')"
      ],
      "metadata": {
        "id": "lC-959O8uxcP"
      },
      "execution_count": null,
      "outputs": []
    },
    {
      "cell_type": "markdown",
      "source": [
        "# Visualize Original Image and Prediction"
      ],
      "metadata": {
        "id": "9tWMsrZTxNnJ"
      }
    },
    {
      "cell_type": "code",
      "source": [
        "im = cv2.imread(\"/content/drive/MyDrive/VPPROJECT/cityscapes/leftImg8bit/train/aachen/aachen_000000_000019_leftImg8bit.png\")\n",
        "cv2_imshow(im)"
      ],
      "metadata": {
        "id": "B83HryEKw_LY"
      },
      "execution_count": null,
      "outputs": []
    },
    {
      "cell_type": "code",
      "source": [
        "# add project-specific config (e.g., TensorMask) here if you're not running a model in detectron2's core library\n",
        "cfg.merge_from_file(model_zoo.get_config_file(\"COCO-InstanceSegmentation/mask_rcnn_R_50_FPN_3x.yaml\"))\n",
        "cfg.MODEL.ROI_HEADS.SCORE_THRESH_TEST = 0.5  # set threshold for this model\n",
        "# Find a model from detectron2's model zoo. You can use the https://dl.fbaipublicfiles... url as well\n",
        "cfg.MODEL.WEIGHTS = model_zoo.get_checkpoint_url(\"COCO-InstanceSegmentation/mask_rcnn_R_50_FPN_3x.yaml\")\n",
        "predictor = DefaultPredictor(cfg)\n",
        "outputs = predictor(im)"
      ],
      "metadata": {
        "id": "9coPWS8kwCZZ"
      },
      "execution_count": null,
      "outputs": []
    },
    {
      "cell_type": "code",
      "source": [
        "print(outputs[\"instances\"].pred_classes)\n",
        "print(outputs[\"instances\"].pred_boxes)"
      ],
      "metadata": {
        "id": "xOizuNaywGSM"
      },
      "execution_count": null,
      "outputs": []
    },
    {
      "cell_type": "code",
      "source": [
        "v = Visualizer(im[:, :, ::-1], MetadataCatalog.get(cfg.DATASETS.TRAIN[0]), scale=1.2)\n",
        "out = v.draw_instance_predictions(outputs[\"instances\"].to(\"cpu\"))\n",
        "cv2_imshow(out.get_image()[:, :, ::-1])"
      ],
      "metadata": {
        "id": "lLzHg32nwNp2"
      },
      "execution_count": null,
      "outputs": []
    }
  ]
}
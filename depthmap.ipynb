{
  "cells": [
    {
      "cell_type": "markdown",
      "metadata": {
        "id": "view-in-github",
        "colab_type": "text"
      },
      "source": [
        "<a href=\"https://colab.research.google.com/github/CharlottePrimiceri/VP_Project/blob/main/depthmap.ipynb\" target=\"_parent\"><img src=\"https://colab.research.google.com/assets/colab-badge.svg\" alt=\"Open In Colab\"/></a>"
      ]
    },
    {
      "cell_type": "code",
      "execution_count": null,
      "metadata": {
        "id": "Y81K0wlDOdFg"
      },
      "outputs": [],
      "source": [
        "!pip install timm\n",
        "import cv2\n",
        "import os\n",
        "import numpy as np\n",
        "import torch\n",
        "import matplotlib.pyplot as plt"
      ]
    },
    {
      "cell_type": "code",
      "execution_count": 5,
      "metadata": {
        "colab": {
          "base_uri": "https://localhost:8080/"
        },
        "id": "ck0FVi4EOxVg",
        "outputId": "574e79bc-5bff-4a72-d000-1af4781dd439"
      },
      "outputs": [
        {
          "output_type": "stream",
          "name": "stdout",
          "text": [
            "Mounted at /content/drive\n"
          ]
        }
      ],
      "source": [
        "from google.colab import drive\n",
        "drive.mount('/content/drive',force_remount=True)"
      ]
    },
    {
      "cell_type": "code",
      "execution_count": null,
      "metadata": {
        "colab": {
          "background_save": true
        },
        "id": "agQW-LjCPCpH"
      },
      "outputs": [],
      "source": [
        "model_type = \"DPT_Hybrid\"\n",
        "midas = torch.hub.load(\"intel-isl/MiDaS\", model_type)\n",
        "\n",
        "device = torch.device(\"cuda\") if torch.cuda.is_available() else torch.device(\"cpu\")\n",
        "midas.to(device)\n",
        "midas.eval()\n",
        "\n",
        "midas_transforms = torch.hub.load(\"intel-isl/MiDaS\", \"transforms\")\n",
        "if model_type == \"DPT_Large\" or model_type == \"DPT_Hybrid\":\n",
        "  transform = midas_transforms.dpt_transform\n",
        "else:\n",
        "    transform = midas_transforms.small_transform"
      ]
    },
    {
      "cell_type": "code",
      "execution_count": null,
      "metadata": {
        "id": "cAqsO3jbEEoF"
      },
      "outputs": [],
      "source": [
        "destination_folder = \"/content/drive/MyDrive/VPPROJECT/cityscapes/depth_images/test\"\n",
        "#imgs = os.listdir(folder_dir)\n",
        "for city in os.listdir(folder_dir):\n",
        "    img_dir = os.path.join(folder_dir, city)\n",
        "    new_dir = os.path.join(destination_folder, city)\n",
        "    #new_dir = os.path.join(destination_folder, os.path.relpath(os.path.join(root, directory), input_folder))\n",
        "    os.makedirs(new_dir, exist_ok=True)\n",
        "    for imgid in os.listdir(img_dir):\n",
        "        path = os.path.join(img_dir,imgid)\n",
        "\n",
        "        output_path = os.path.join(destination_folder, os.path.relpath(path, folder_dir))\n",
        "        output_dir = os.path.dirname(output_path)\n",
        "        os.makedirs(output_dir, exist_ok=True)\n",
        "\n",
        "        img = cv2.imread(path)\n",
        "        input_batch = transform(img).to(device)\n",
        "        with torch.no_grad():\n",
        "             prediction = midas(input_batch)\n",
        "             prediction = torch.nn.functional.interpolate(\n",
        "             prediction.unsqueeze(1),\n",
        "             size=img.shape[:2],\n",
        "             mode=\"bicubic\",\n",
        "             align_corners=False,\n",
        "             ).squeeze()\n",
        "        depth = prediction.cpu().numpy()\n",
        "        normalized_depth = (depth - np.min(depth)) / (np.max(depth) - np.min(depth))\n",
        "        depth_rgb = cv2.applyColorMap((normalized_depth * 255).astype(np.uint8), cv2.COLORMAP_JET)\n",
        "        cv2.imwrite(output_path, depth_rgb)"
      ]
    }
  ],
  "metadata": {
    "accelerator": "GPU",
    "colab": {
      "provenance": [],
      "include_colab_link": true
    },
    "kernelspec": {
      "display_name": "Python 3",
      "name": "python3"
    },
    "language_info": {
      "name": "python"
    }
  },
  "nbformat": 4,
  "nbformat_minor": 0
}